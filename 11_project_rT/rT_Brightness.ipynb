{
 "cells": [
  {
   "cell_type": "code",
   "execution_count": 1,
   "id": "a5c88d1e",
   "metadata": {},
   "outputs": [],
   "source": [
    "import cv2\n",
    "import numpy as np"
   ]
  },
  {
   "cell_type": "code",
   "execution_count": 6,
   "id": "1343bbfb",
   "metadata": {},
   "outputs": [],
   "source": [
    "def nothing(x):\n",
    "    pass"
   ]
  },
  {
   "cell_type": "code",
   "execution_count": 7,
   "id": "539999c7",
   "metadata": {},
   "outputs": [],
   "source": [
    "def brightness_control(img, bright):\n",
    "    bar = bright - 127\n",
    "    \n",
    "    if bar>=0:\n",
    "        value = np.ones_like(img, dtype='uint8')*bar\n",
    "        img_ctrl = cv2.add(img, value)\n",
    "    else:\n",
    "        bright = 127 - bright\n",
    "        value = np.ones_like(img, dtype='uint8')*bright\n",
    "        img_ctrl = cv2.subtract(img, value)\n",
    "    return img_ctrl"
   ]
  },
  {
   "cell_type": "code",
   "execution_count": 10,
   "id": "ca159762",
   "metadata": {},
   "outputs": [],
   "source": [
    "cap = cv2.VideoCapture(0)\n",
    "cv2.namedWindow(\"Brightness Control\")\n",
    "bright = cv2.createTrackbar('Brightness', 'Brightness Control', 75, 255, nothing)\n",
    "# value = np.ones_like(img, dtype='uint8')\n",
    "\n",
    "while True:\n",
    "    ret, frame = cap.read()\n",
    "    if ret == False:\n",
    "        break\n",
    "\n",
    "    bright = cv2.getTrackbarPos('Brightness', 'Brightness Control')\n",
    "    img_Ctrl = brightness_control(frame, bright)\n",
    "\n",
    "    cv2.imshow('Brightness Control', img_Ctrl)\n",
    "    if cv2.waitKey(1) == ord('q'):\n",
    "        break\n",
    "\n",
    "cv2.destroyAllWindows()\n",
    "cap.release()"
   ]
  },
  {
   "cell_type": "code",
   "execution_count": null,
   "id": "ecf24356",
   "metadata": {},
   "outputs": [],
   "source": []
  },
  {
   "cell_type": "code",
   "execution_count": null,
   "id": "313ae570",
   "metadata": {},
   "outputs": [],
   "source": []
  }
 ],
 "metadata": {
  "kernelspec": {
   "display_name": "Python 3",
   "language": "python",
   "name": "python3"
  },
  "language_info": {
   "codemirror_mode": {
    "name": "ipython",
    "version": 3
   },
   "file_extension": ".py",
   "mimetype": "text/x-python",
   "name": "python",
   "nbconvert_exporter": "python",
   "pygments_lexer": "ipython3",
   "version": "3.13.3"
  }
 },
 "nbformat": 4,
 "nbformat_minor": 5
}
