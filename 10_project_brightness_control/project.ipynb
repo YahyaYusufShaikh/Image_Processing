{
 "cells": [
  {
   "cell_type": "code",
   "execution_count": 1,
   "id": "fe43ffaa",
   "metadata": {},
   "outputs": [],
   "source": [
    "import cv2\n",
    "import numpy as np"
   ]
  },
  {
   "cell_type": "code",
   "execution_count": 2,
   "id": "0e42ef8b",
   "metadata": {},
   "outputs": [],
   "source": [
    "img = cv2.imread('./images/car.jpg')\n",
    "cv2.imshow('car', img)\n",
    "cv2.waitKey(0)\n",
    "cv2.destroyAllWindows()"
   ]
  },
  {
   "cell_type": "code",
   "execution_count": null,
   "id": "a395882c",
   "metadata": {},
   "outputs": [
    {
     "ename": "TypeError",
     "evalue": "unsupported operand type(s) for *: 'int' and 'NoneType'",
     "output_type": "error",
     "traceback": [
      "\u001b[31m---------------------------------------------------------------------------\u001b[39m",
      "\u001b[31mTypeError\u001b[39m                                 Traceback (most recent call last)",
      "\u001b[36mCell\u001b[39m\u001b[36m \u001b[39m\u001b[32mIn[4]\u001b[39m\u001b[32m, line 6\u001b[39m\n\u001b[32m      4\u001b[39m cv2.namedWindow(\u001b[33m\"\u001b[39m\u001b[33mBrightness Control\u001b[39m\u001b[33m\"\u001b[39m)\n\u001b[32m      5\u001b[39m bright = cv2.createTrackbar(\u001b[33m'\u001b[39m\u001b[33mBrightness\u001b[39m\u001b[33m'\u001b[39m, \u001b[33m'\u001b[39m\u001b[33mBrightness Control\u001b[39m\u001b[33m'\u001b[39m, \u001b[32m75\u001b[39m, \u001b[32m255\u001b[39m, nothing)\n\u001b[32m----> \u001b[39m\u001b[32m6\u001b[39m value = \u001b[43mnp\u001b[49m\u001b[43m.\u001b[49m\u001b[43mones_like\u001b[49m\u001b[43m(\u001b[49m\u001b[43mimg\u001b[49m\u001b[43m,\u001b[49m\u001b[43m \u001b[49m\u001b[43mdtype\u001b[49m\u001b[43m=\u001b[49m\u001b[33;43m'\u001b[39;49m\u001b[33;43muint8\u001b[39;49m\u001b[33;43m'\u001b[39;49m\u001b[43m)\u001b[49m\u001b[43m*\u001b[49m\u001b[43mbright\u001b[49m\n\u001b[32m      8\u001b[39m \u001b[38;5;28;01mwhile\u001b[39;00m \u001b[38;5;28;01mTrue\u001b[39;00m:\n\u001b[32m      9\u001b[39m     bright = cv2.getTrackbarPos(\u001b[33m'\u001b[39m\u001b[33mBrightness\u001b[39m\u001b[33m'\u001b[39m, \u001b[33m'\u001b[39m\u001b[33mBrightness Control\u001b[39m\u001b[33m'\u001b[39m)\n",
      "\u001b[31mTypeError\u001b[39m: unsupported operand type(s) for *: 'int' and 'NoneType'"
     ]
    },
    {
     "ename": "",
     "evalue": "",
     "output_type": "error",
     "traceback": [
      "\u001b[1;31mThe Kernel crashed while executing code in the current cell or a previous cell. \n",
      "\u001b[1;31mPlease review the code in the cell(s) to identify a possible cause of the failure. \n",
      "\u001b[1;31mClick <a href='https://aka.ms/vscodeJupyterKernelCrash'>here</a> for more info. \n",
      "\u001b[1;31mView Jupyter <a href='command:jupyter.viewOutput'>log</a> for further details."
     ]
    }
   ],
   "source": [
    "def nothing(x):\n",
    "    pass\n",
    "\n",
    "cv2.namedWindow(\"Brightness Control\")\n",
    "bright = cv2.createTrackbar('Brightness', 'Brightness Control', 75, 255, nothing)\n",
    "value = np.ones_like(img, dtype='uint8')\n",
    "\n",
    "while True:\n",
    "    bright = cv2.getTrackbarPos('Brightness', 'Brightness Control')\n",
    "    bar = bright - 127\n",
    "    \n",
    "    if bar>=0:\n",
    "        value = np.ones_like(img, dtype='uint8')*bar\n",
    "        img_ctrl = cv2.add(img, value)\n",
    "    else:\n",
    "        bright = 127 - bright\n",
    "        value = np.ones_like(img, dtype='uint8')*bright\n",
    "        img_ctrl = cv2.subtract(img, value)\n",
    "\n",
    "    cv2.imshow('Brightness Control', img_ctrl)\n",
    "\n",
    "    if cv2.waitKey(1) == ord('q'):\n",
    "        break\n",
    "\n",
    "cv2.destroyAllWindows()"
   ]
  },
  {
   "cell_type": "code",
   "execution_count": null,
   "id": "eef3fbc4",
   "metadata": {},
   "outputs": [],
   "source": []
  },
  {
   "cell_type": "code",
   "execution_count": null,
   "id": "b08c9853",
   "metadata": {},
   "outputs": [],
   "source": []
  }
 ],
 "metadata": {
  "kernelspec": {
   "display_name": "Python 3",
   "language": "python",
   "name": "python3"
  },
  "language_info": {
   "codemirror_mode": {
    "name": "ipython",
    "version": 3
   },
   "file_extension": ".py",
   "mimetype": "text/x-python",
   "name": "python",
   "nbconvert_exporter": "python",
   "pygments_lexer": "ipython3",
   "version": "3.13.3"
  }
 },
 "nbformat": 4,
 "nbformat_minor": 5
}
