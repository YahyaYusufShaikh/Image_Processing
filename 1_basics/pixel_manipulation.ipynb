{
 "cells": [
  {
   "cell_type": "code",
   "execution_count": 1,
   "id": "de91dd37",
   "metadata": {},
   "outputs": [],
   "source": [
    "import cv2\n",
    "import numpy as np"
   ]
  },
  {
   "cell_type": "code",
   "execution_count": 2,
   "id": "4b6f27de",
   "metadata": {},
   "outputs": [],
   "source": [
    "def display(win, image):\n",
    "    cv2.imshow(win, image)\n",
    "    cv2.waitKey(0)\n",
    "    cv2.destroyAllWindows()"
   ]
  },
  {
   "cell_type": "code",
   "execution_count": 3,
   "id": "4b7d159f",
   "metadata": {},
   "outputs": [],
   "source": [
    "img = cv2.imread('./images/bird.jpg')\n",
    "display('bird', img)"
   ]
  },
  {
   "cell_type": "code",
   "execution_count": 4,
   "id": "9c2a05e7",
   "metadata": {},
   "outputs": [
    {
     "data": {
      "text/plain": [
       "numpy.ndarray"
      ]
     },
     "execution_count": 4,
     "metadata": {},
     "output_type": "execute_result"
    }
   ],
   "source": [
    "type(img)"
   ]
  },
  {
   "cell_type": "code",
   "execution_count": 22,
   "id": "51b49c45",
   "metadata": {},
   "outputs": [],
   "source": [
    "#reading the first 100 rows and column of the image\n",
    "corners = img[0:100, 0:100]\n",
    "display('corners', corners)"
   ]
  },
  {
   "cell_type": "code",
   "execution_count": 26,
   "id": "1f575925",
   "metadata": {},
   "outputs": [],
   "source": [
    "#changing the color of the corners\n",
    "corners = cv2.cvtColor(corners, cv2.COLOR_BGR2RGB)\n",
    "display('corners', corners)"
   ]
  },
  {
   "cell_type": "code",
   "execution_count": 15,
   "id": "44973718",
   "metadata": {},
   "outputs": [],
   "source": [
    "img[0:100, 0:100] = corners\n",
    "display('bird', img)"
   ]
  },
  {
   "cell_type": "code",
   "execution_count": 17,
   "id": "2e727756",
   "metadata": {},
   "outputs": [],
   "source": [
    "green = (0, 255, 0)\n",
    "img[0:100, 0:100] = green\n",
    "display('bird', img)"
   ]
  },
  {
   "cell_type": "code",
   "execution_count": null,
   "id": "9c87c69f",
   "metadata": {},
   "outputs": [],
   "source": []
  },
  {
   "cell_type": "code",
   "execution_count": null,
   "id": "868bf46e",
   "metadata": {},
   "outputs": [],
   "source": []
  },
  {
   "cell_type": "code",
   "execution_count": null,
   "id": "5b893763",
   "metadata": {},
   "outputs": [],
   "source": []
  }
 ],
 "metadata": {
  "kernelspec": {
   "display_name": "Python 3",
   "language": "python",
   "name": "python3"
  },
  "language_info": {
   "codemirror_mode": {
    "name": "ipython",
    "version": 3
   },
   "file_extension": ".py",
   "mimetype": "text/x-python",
   "name": "python",
   "nbconvert_exporter": "python",
   "pygments_lexer": "ipython3",
   "version": "3.13.3"
  }
 },
 "nbformat": 4,
 "nbformat_minor": 5
}
