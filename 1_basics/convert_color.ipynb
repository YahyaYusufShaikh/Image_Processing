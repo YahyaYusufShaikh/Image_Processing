{
 "cells": [
  {
   "cell_type": "code",
   "execution_count": 1,
   "id": "dd6b5ecb",
   "metadata": {},
   "outputs": [],
   "source": [
    "import cv2\n",
    "import numpy as np"
   ]
  },
  {
   "cell_type": "code",
   "execution_count": 2,
   "id": "c68c6eea",
   "metadata": {},
   "outputs": [],
   "source": [
    "img = cv2.imread('./images/flemingo.jpg')"
   ]
  },
  {
   "cell_type": "code",
   "execution_count": 3,
   "id": "9397064e",
   "metadata": {},
   "outputs": [],
   "source": [
    "b, g, r = cv2.split(img)\n",
    "cv2.imshow('Blue', b)\n",
    "cv2.imshow('Green', g)\n",
    "cv2.imshow('Red', r)\n",
    "cv2.waitKey(0)\n",
    "cv2.destroyAllWindows()"
   ]
  },
  {
   "cell_type": "code",
   "execution_count": 4,
   "id": "96280f54",
   "metadata": {},
   "outputs": [
    {
     "data": {
      "text/plain": [
       "array([[188, 189, 189, ..., 188, 188, 188],\n",
       "       [188, 189, 189, ..., 188, 188, 188],\n",
       "       [188, 189, 189, ..., 188, 188, 188],\n",
       "       ...,\n",
       "       [167, 167, 167, ..., 177, 177, 177],\n",
       "       [171, 171, 172, ..., 177, 177, 177],\n",
       "       [177, 177, 178, ..., 177, 177, 177]], shape=(640, 640), dtype=uint8)"
      ]
     },
     "execution_count": 4,
     "metadata": {},
     "output_type": "execute_result"
    }
   ],
   "source": [
    "b"
   ]
  },
  {
   "cell_type": "code",
   "execution_count": 5,
   "id": "9f5cdccf",
   "metadata": {},
   "outputs": [
    {
     "data": {
      "text/plain": [
       "array([[163, 164, 164, ..., 163, 163, 163],\n",
       "       [163, 164, 164, ..., 163, 163, 163],\n",
       "       [163, 164, 164, ..., 163, 163, 163],\n",
       "       ...,\n",
       "       [134, 134, 134, ..., 144, 144, 144],\n",
       "       [141, 141, 142, ..., 144, 144, 144],\n",
       "       [147, 147, 148, ..., 144, 144, 144]], shape=(640, 640), dtype=uint8)"
      ]
     },
     "execution_count": 5,
     "metadata": {},
     "output_type": "execute_result"
    }
   ],
   "source": [
    "g"
   ]
  },
  {
   "cell_type": "code",
   "execution_count": 6,
   "id": "970cb246",
   "metadata": {},
   "outputs": [
    {
     "data": {
      "text/plain": [
       "array([[119, 120, 120, ..., 119, 119, 119],\n",
       "       [119, 120, 120, ..., 119, 119, 119],\n",
       "       [119, 120, 120, ..., 119, 119, 119],\n",
       "       ...,\n",
       "       [ 88,  88,  88, ...,  98,  98,  98],\n",
       "       [ 94,  94,  95, ...,  98,  98,  98],\n",
       "       [100, 100, 101, ...,  98,  98,  98]], shape=(640, 640), dtype=uint8)"
      ]
     },
     "execution_count": 6,
     "metadata": {},
     "output_type": "execute_result"
    }
   ],
   "source": [
    "r"
   ]
  },
  {
   "cell_type": "markdown",
   "id": "896cca78",
   "metadata": {},
   "source": [
    "Converting the color"
   ]
  },
  {
   "cell_type": "code",
   "execution_count": 10,
   "id": "de35293e",
   "metadata": {},
   "outputs": [],
   "source": [
    "img_rgb = cv2.cvtColor(img, cv2.COLOR_BGR2RGB)\n",
    "img_grey = cv2.cvtColor(img, cv2.COLOR_BGR2GRAY)"
   ]
  },
  {
   "cell_type": "code",
   "execution_count": null,
   "id": "976f3db6",
   "metadata": {},
   "outputs": [],
   "source": [
    "cv2.imshow('RGB', img_rgb)\n",
    "cv2.imshow('Grey', img_grey)\n",
    "cv2.imshow('image', img)\n",
    "cv2.waitKey(0)\n",
    "cv2.destroyAllWindows()"
   ]
  }
 ],
 "metadata": {
  "kernelspec": {
   "display_name": "Python 3",
   "language": "python",
   "name": "python3"
  },
  "language_info": {
   "codemirror_mode": {
    "name": "ipython",
    "version": 3
   },
   "file_extension": ".py",
   "mimetype": "text/x-python",
   "name": "python",
   "nbconvert_exporter": "python",
   "pygments_lexer": "ipython3",
   "version": "3.13.3"
  }
 },
 "nbformat": 4,
 "nbformat_minor": 5
}
