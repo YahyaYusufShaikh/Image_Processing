{
 "cells": [
  {
   "cell_type": "code",
   "execution_count": 2,
   "id": "60f78016",
   "metadata": {},
   "outputs": [],
   "source": [
    "import numpy as np\n",
    "import cv2"
   ]
  },
  {
   "cell_type": "code",
   "execution_count": null,
   "id": "2565c2dd",
   "metadata": {},
   "outputs": [],
   "source": []
  },
  {
   "cell_type": "code",
   "execution_count": null,
   "id": "2df9e5fc",
   "metadata": {},
   "outputs": [],
   "source": []
  },
  {
   "cell_type": "code",
   "execution_count": 3,
   "id": "f210b56a",
   "metadata": {},
   "outputs": [],
   "source": [
    "img = cv2.imread('./flemingo.jpg')"
   ]
  },
  {
   "cell_type": "code",
   "execution_count": null,
   "id": "ac6d4d44",
   "metadata": {},
   "outputs": [],
   "source": []
  },
  {
   "cell_type": "code",
   "execution_count": null,
   "id": "59d8ef73",
   "metadata": {},
   "outputs": [],
   "source": []
  },
  {
   "cell_type": "code",
   "execution_count": 4,
   "id": "cb12ae55",
   "metadata": {},
   "outputs": [
    {
     "name": "stdout",
     "output_type": "stream",
     "text": [
      "[[[188 163 119]\n",
      "  [189 164 120]\n",
      "  [189 164 120]\n",
      "  ...\n",
      "  [188 163 119]\n",
      "  [188 163 119]\n",
      "  [188 163 119]]\n",
      "\n",
      " [[188 163 119]\n",
      "  [189 164 120]\n",
      "  [189 164 120]\n",
      "  ...\n",
      "  [188 163 119]\n",
      "  [188 163 119]\n",
      "  [188 163 119]]\n",
      "\n",
      " [[188 163 119]\n",
      "  [189 164 120]\n",
      "  [189 164 120]\n",
      "  ...\n",
      "  [188 163 119]\n",
      "  [188 163 119]\n",
      "  [188 163 119]]\n",
      "\n",
      " ...\n",
      "\n",
      " [[167 134  88]\n",
      "  [167 134  88]\n",
      "  [167 134  88]\n",
      "  ...\n",
      "  [177 144  98]\n",
      "  [177 144  98]\n",
      "  [177 144  98]]\n",
      "\n",
      " [[171 141  94]\n",
      "  [171 141  94]\n",
      "  [172 142  95]\n",
      "  ...\n",
      "  [177 144  98]\n",
      "  [177 144  98]\n",
      "  [177 144  98]]\n",
      "\n",
      " [[177 147 100]\n",
      "  [177 147 100]\n",
      "  [178 148 101]\n",
      "  ...\n",
      "  [177 144  98]\n",
      "  [177 144  98]\n",
      "  [177 144  98]]]\n"
     ]
    }
   ],
   "source": [
    "print(img)"
   ]
  },
  {
   "cell_type": "code",
   "execution_count": 5,
   "id": "f500581a",
   "metadata": {},
   "outputs": [
    {
     "data": {
      "text/plain": [
       "(640, 640, 3)"
      ]
     },
     "execution_count": 5,
     "metadata": {},
     "output_type": "execute_result"
    }
   ],
   "source": [
    "img.shape"
   ]
  },
  {
   "cell_type": "code",
   "execution_count": 7,
   "id": "603b2eac",
   "metadata": {},
   "outputs": [],
   "source": [
    "cv2.imshow('flemingo',img)\n",
    "cv2.waitKey(0)\n",
    "cv2.destroyAllWindows()"
   ]
  },
  {
   "cell_type": "code",
   "execution_count": 10,
   "id": "d9a8047e",
   "metadata": {},
   "outputs": [
    {
     "data": {
      "text/plain": [
       "True"
      ]
     },
     "execution_count": 10,
     "metadata": {},
     "output_type": "execute_result"
    }
   ],
   "source": [
    "#to save an image\n",
    "cv2.imwrite('./example1.jpg', img)"
   ]
  },
  {
   "cell_type": "code",
   "execution_count": null,
   "id": "62bbc88f",
   "metadata": {},
   "outputs": [],
   "source": [
    "    "
   ]
  },
  {
   "cell_type": "code",
   "execution_count": null,
   "id": "0ca0596d",
   "metadata": {},
   "outputs": [],
   "source": []
  },
  {
   "cell_type": "code",
   "execution_count": null,
   "id": "916dc1c4",
   "metadata": {},
   "outputs": [],
   "source": []
  },
  {
   "cell_type": "code",
   "execution_count": null,
   "id": "01d823a0",
   "metadata": {},
   "outputs": [],
   "source": []
  },
  {
   "cell_type": "code",
   "execution_count": null,
   "id": "461c40b4",
   "metadata": {},
   "outputs": [],
   "source": []
  },
  {
   "cell_type": "code",
   "execution_count": null,
   "id": "27f7d43b",
   "metadata": {},
   "outputs": [],
   "source": []
  },
  {
   "cell_type": "code",
   "execution_count": null,
   "id": "f8a3eb00",
   "metadata": {},
   "outputs": [],
   "source": []
  },
  {
   "cell_type": "code",
   "execution_count": null,
   "id": "3194072e",
   "metadata": {},
   "outputs": [],
   "source": []
  }
 ],
 "metadata": {
  "kernelspec": {
   "display_name": "Python 3 (ipykernel)",
   "language": "python",
   "name": "python3"
  },
  "language_info": {
   "codemirror_mode": {
    "name": "ipython",
    "version": 3
   },
   "file_extension": ".py",
   "mimetype": "text/x-python",
   "name": "python",
   "nbconvert_exporter": "python",
   "pygments_lexer": "ipython3",
   "version": "3.11.5"
  }
 },
 "nbformat": 4,
 "nbformat_minor": 5
}
