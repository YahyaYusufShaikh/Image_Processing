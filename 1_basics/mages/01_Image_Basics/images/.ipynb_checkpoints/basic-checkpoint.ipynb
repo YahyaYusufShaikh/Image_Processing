{
 "cells": [
  {
   "cell_type": "code",
   "execution_count": 2,
   "id": "c53e2754",
   "metadata": {},
   "outputs": [],
   "source": [
    "import numpy as np\n",
    "import cv2"
   ]
  },
  {
   "cell_type": "code",
   "execution_count": null,
   "id": "cbaebcfa",
   "metadata": {},
   "outputs": [],
   "source": []
  },
  {
   "cell_type": "code",
   "execution_count": null,
   "id": "b44413d6",
   "metadata": {},
   "outputs": [],
   "source": []
  },
  {
   "cell_type": "code",
   "execution_count": 3,
   "id": "f784de60",
   "metadata": {},
   "outputs": [],
   "source": [
    "img = cv2.imread('./flemingo.jpg')"
   ]
  },
  {
   "cell_type": "code",
   "execution_count": null,
   "id": "3896b5c5",
   "metadata": {},
   "outputs": [],
   "source": []
  },
  {
   "cell_type": "code",
   "execution_count": null,
   "id": "71f2994e",
   "metadata": {},
   "outputs": [],
   "source": []
  },
  {
   "cell_type": "code",
   "execution_count": 4,
   "id": "397d5274",
   "metadata": {},
   "outputs": [
    {
     "name": "stdout",
     "output_type": "stream",
     "text": [
      "[[[188 163 119]\n",
      "  [189 164 120]\n",
      "  [189 164 120]\n",
      "  ...\n",
      "  [188 163 119]\n",
      "  [188 163 119]\n",
      "  [188 163 119]]\n",
      "\n",
      " [[188 163 119]\n",
      "  [189 164 120]\n",
      "  [189 164 120]\n",
      "  ...\n",
      "  [188 163 119]\n",
      "  [188 163 119]\n",
      "  [188 163 119]]\n",
      "\n",
      " [[188 163 119]\n",
      "  [189 164 120]\n",
      "  [189 164 120]\n",
      "  ...\n",
      "  [188 163 119]\n",
      "  [188 163 119]\n",
      "  [188 163 119]]\n",
      "\n",
      " ...\n",
      "\n",
      " [[167 134  88]\n",
      "  [167 134  88]\n",
      "  [167 134  88]\n",
      "  ...\n",
      "  [177 144  98]\n",
      "  [177 144  98]\n",
      "  [177 144  98]]\n",
      "\n",
      " [[171 141  94]\n",
      "  [171 141  94]\n",
      "  [172 142  95]\n",
      "  ...\n",
      "  [177 144  98]\n",
      "  [177 144  98]\n",
      "  [177 144  98]]\n",
      "\n",
      " [[177 147 100]\n",
      "  [177 147 100]\n",
      "  [178 148 101]\n",
      "  ...\n",
      "  [177 144  98]\n",
      "  [177 144  98]\n",
      "  [177 144  98]]]\n"
     ]
    }
   ],
   "source": [
    "print(img)"
   ]
  },
  {
   "cell_type": "code",
   "execution_count": 5,
   "id": "6c474f98",
   "metadata": {},
   "outputs": [
    {
     "data": {
      "text/plain": [
       "(640, 640, 3)"
      ]
     },
     "execution_count": 5,
     "metadata": {},
     "output_type": "execute_result"
    }
   ],
   "source": [
    "img.shape"
   ]
  },
  {
   "cell_type": "code",
   "execution_count": 7,
   "id": "2291c6cf",
   "metadata": {},
   "outputs": [],
   "source": [
    "cv2.imshow('flemingo',img)\n",
    "cv2.waitKey(0)\n",
    "cv2.destroyAllWindows()"
   ]
  },
  {
   "cell_type": "code",
   "execution_count": 10,
   "id": "8271ce56",
   "metadata": {},
   "outputs": [
    {
     "data": {
      "text/plain": [
       "True"
      ]
     },
     "execution_count": 10,
     "metadata": {},
     "output_type": "execute_result"
    }
   ],
   "source": [
    "#to save an image\n",
    "cv2.imwrite('./example1.jpg', img)"
   ]
  },
  {
   "cell_type": "code",
   "execution_count": null,
   "id": "9fee3b1e",
   "metadata": {},
   "outputs": [],
   "source": [
    "    "
   ]
  },
  {
   "cell_type": "code",
   "execution_count": null,
   "id": "de01c0ed",
   "metadata": {},
   "outputs": [],
   "source": []
  },
  {
   "cell_type": "code",
   "execution_count": null,
   "id": "125fa399",
   "metadata": {},
   "outputs": [],
   "source": []
  },
  {
   "cell_type": "code",
   "execution_count": null,
   "id": "7e67976b",
   "metadata": {},
   "outputs": [],
   "source": []
  },
  {
   "cell_type": "code",
   "execution_count": null,
   "id": "09a722d6",
   "metadata": {},
   "outputs": [],
   "source": []
  },
  {
   "cell_type": "code",
   "execution_count": null,
   "id": "9f0c585e",
   "metadata": {},
   "outputs": [],
   "source": []
  },
  {
   "cell_type": "code",
   "execution_count": null,
   "id": "c0623f9d",
   "metadata": {},
   "outputs": [],
   "source": []
  },
  {
   "cell_type": "code",
   "execution_count": null,
   "id": "0c542409",
   "metadata": {},
   "outputs": [],
   "source": []
  }
 ],
 "metadata": {
  "kernelspec": {
   "display_name": "Python 3 (ipykernel)",
   "language": "python",
   "name": "python3"
  },
  "language_info": {
   "codemirror_mode": {
    "name": "ipython",
    "version": 3
   },
   "file_extension": ".py",
   "mimetype": "text/x-python",
   "name": "python",
   "nbconvert_exporter": "python",
   "pygments_lexer": "ipython3",
   "version": "3.11.5"
  }
 },
 "nbformat": 4,
 "nbformat_minor": 5
}
