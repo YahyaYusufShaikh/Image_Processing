{
 "cells": [
  {
   "cell_type": "code",
   "execution_count": 1,
   "id": "b6132af9",
   "metadata": {},
   "outputs": [],
   "source": [
    "import numpy as np\n",
    "import cv2"
   ]
  },
  {
   "cell_type": "code",
   "execution_count": 2,
   "id": "2aa013eb",
   "metadata": {},
   "outputs": [],
   "source": [
    "img = cv2.imread(\"./bird.jpg\")"
   ]
  },
  {
   "cell_type": "code",
   "execution_count": null,
   "id": "37a93c5c",
   "metadata": {},
   "outputs": [],
   "source": []
  },
  {
   "cell_type": "code",
   "execution_count": null,
   "id": "1436ee78",
   "metadata": {},
   "outputs": [],
   "source": []
  },
  {
   "cell_type": "code",
   "execution_count": 3,
   "id": "6b332628",
   "metadata": {},
   "outputs": [
    {
     "name": "stdout",
     "output_type": "stream",
     "text": [
      "[[[ 88 188 253]\n",
      "  [ 88 188 253]\n",
      "  [ 88 188 253]\n",
      "  ...\n",
      "  [ 45 137 214]\n",
      "  [ 45 137 214]\n",
      "  [ 44 136 213]]\n",
      "\n",
      " [[ 88 188 253]\n",
      "  [ 88 188 253]\n",
      "  [ 88 188 253]\n",
      "  ...\n",
      "  [ 45 137 214]\n",
      "  [ 45 137 214]\n",
      "  [ 45 137 214]]\n",
      "\n",
      " [[ 88 188 253]\n",
      "  [ 88 188 253]\n",
      "  [ 88 188 253]\n",
      "  ...\n",
      "  [ 46 138 215]\n",
      "  [ 45 137 214]\n",
      "  [ 45 137 214]]\n",
      "\n",
      " ...\n",
      "\n",
      " [[ 73 170 226]\n",
      "  [ 72 169 225]\n",
      "  [ 70 170 225]\n",
      "  ...\n",
      "  [  1  36  50]\n",
      "  [ 29  77  95]\n",
      "  [ 67 120 140]]\n",
      "\n",
      " [[ 73 170 226]\n",
      "  [ 73 170 226]\n",
      "  [ 70 170 225]\n",
      "  ...\n",
      "  [  0  32  46]\n",
      "  [ 11  61  81]\n",
      "  [ 29  83 106]]\n",
      "\n",
      " [[ 75 172 228]\n",
      "  [ 73 170 226]\n",
      "  [ 72 170 224]\n",
      "  ...\n",
      "  [  0  33  50]\n",
      "  [  2  51  77]\n",
      "  [ 94 148 178]]]\n"
     ]
    }
   ],
   "source": [
    "print(img)"
   ]
  },
  {
   "cell_type": "code",
   "execution_count": 4,
   "id": "914d47ad",
   "metadata": {},
   "outputs": [],
   "source": [
    "def display(winame, image):\n",
    "    cv2.imshow(winame, image)\n",
    "    cv2.waitKey(0)\n",
    "    cv2.destroyAllWindows()"
   ]
  },
  {
   "cell_type": "code",
   "execution_count": 6,
   "id": "cdaa0fdb",
   "metadata": {},
   "outputs": [],
   "source": [
    "display(\"image\", img)"
   ]
  },
  {
   "cell_type": "code",
   "execution_count": 8,
   "id": "d4dc6ca2",
   "metadata": {},
   "outputs": [
    {
     "data": {
      "text/plain": [
       "(681, 640, 3)"
      ]
     },
     "execution_count": 8,
     "metadata": {},
     "output_type": "execute_result"
    }
   ],
   "source": [
    "img.shape"
   ]
  },
  {
   "cell_type": "code",
   "execution_count": 9,
   "id": "86f1918c",
   "metadata": {},
   "outputs": [],
   "source": [
    "#accessing 100 rows and 100 columns"
   ]
  },
  {
   "cell_type": "code",
   "execution_count": 11,
   "id": "a643ce8b",
   "metadata": {},
   "outputs": [],
   "source": [
    "corner = img[0:100,0:100]"
   ]
  },
  {
   "cell_type": "code",
   "execution_count": 12,
   "id": "82e942ce",
   "metadata": {},
   "outputs": [],
   "source": [
    "display(\"100\", corner)"
   ]
  },
  {
   "cell_type": "code",
   "execution_count": 23,
   "id": "a165b50f",
   "metadata": {},
   "outputs": [],
   "source": [
    "#changing the color of first 100 rows and columns\n",
    "green = (200,255,200)"
   ]
  },
  {
   "cell_type": "code",
   "execution_count": 24,
   "id": "451cbd35",
   "metadata": {},
   "outputs": [],
   "source": [
    "img[0:100, 0:100] = green"
   ]
  },
  {
   "cell_type": "code",
   "execution_count": 25,
   "id": "a8c394b3",
   "metadata": {},
   "outputs": [],
   "source": [
    "display(\"original\", img)"
   ]
  },
  {
   "cell_type": "code",
   "execution_count": null,
   "id": "17e2816b",
   "metadata": {},
   "outputs": [],
   "source": []
  }
 ],
 "metadata": {
  "kernelspec": {
   "display_name": "Python 3 (ipykernel)",
   "language": "python",
   "name": "python3"
  },
  "language_info": {
   "codemirror_mode": {
    "name": "ipython",
    "version": 3
   },
   "file_extension": ".py",
   "mimetype": "text/x-python",
   "name": "python",
   "nbconvert_exporter": "python",
   "pygments_lexer": "ipython3",
   "version": "3.11.5"
  }
 },
 "nbformat": 4,
 "nbformat_minor": 5
}
