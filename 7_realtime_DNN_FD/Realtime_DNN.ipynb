{
 "cells": [
  {
   "cell_type": "code",
   "execution_count": 1,
   "id": "a90f8a88",
   "metadata": {},
   "outputs": [],
   "source": [
    "import numpy as np\n",
    "import cv2"
   ]
  },
  {
   "cell_type": "code",
   "execution_count": null,
   "id": "71310629",
   "metadata": {},
   "outputs": [],
   "source": []
  },
  {
   "cell_type": "code",
   "execution_count": 6,
   "id": "4511f280",
   "metadata": {},
   "outputs": [],
   "source": [
    "cap = cv2.VideoCapture(0)\n",
    "\n",
    "face_detect_model = cv2.dnn.readNetFromCaffe('./model/deploy.prototxt.txt', './model/res10_300x300_ssd_iter_140000_fp16.caffemodel')\n",
    "\n",
    "def face_detect_dnn(img):\n",
    "    #step 1 Blob from the image\n",
    "    blob = cv2.dnn.blobFromImage(img, 1, (300, 300), (104, 177, 123), swapRB=True)\n",
    "\n",
    "    #step 2 set blob as input\n",
    "    face_detect_model.setInput(blob)\n",
    "\n",
    "    #step 3 get the output\n",
    "    detections = face_detect_model.forward()\n",
    "\n",
    "    #dwaring bound of box on top of the faces\n",
    "    image = img.copy()\n",
    "    h, w = img.shape[:2]\n",
    "\n",
    "    for i in range(0, detections.shape[2]):\n",
    "        confidence = detections[0,0,i,2]\n",
    "        if confidence > 0.5:\n",
    "            #diagonal points 3: 7\n",
    "            box = detections[0, 0, i, 3:7] * np.array([w,h,w,h])\n",
    "            box = box.astype('int')\n",
    "            pt1 = (box[0], box[1])\n",
    "            pt2 = (box[2], box[3])\n",
    "            #draw circle\n",
    "            cv2.rectangle(image, pt1, pt2, (0, 255, 0), 2)\n",
    "\n",
    "            text = \"score : {:.0f}%\".format(confidence * 100)\n",
    "            cv2.putText(image, text, pt1, cv2.FONT_HERSHEY_SIMPLEX, 1, (255, 255, 255))\n",
    "\n",
    "    return image\n",
    "\n",
    "while True:\n",
    "    ret, frame = cap.read()\n",
    "    if ret == False:\n",
    "        break\n",
    "    img_detect = face_detect_dnn(frame)\n",
    "    cv2.imshow('face', img_detect)\n",
    "    if cv2.waitKey(1) == ord('q'):\n",
    "        break\n",
    "\n",
    "cap.release()\n",
    "cv2.destroyAllWindows()\n"
   ]
  },
  {
   "cell_type": "code",
   "execution_count": null,
   "id": "5b008904",
   "metadata": {},
   "outputs": [],
   "source": []
  },
  {
   "cell_type": "code",
   "execution_count": null,
   "id": "0fb0aa50",
   "metadata": {},
   "outputs": [],
   "source": []
  },
  {
   "cell_type": "code",
   "execution_count": null,
   "id": "1e75c3e7",
   "metadata": {},
   "outputs": [],
   "source": []
  }
 ],
 "metadata": {
  "kernelspec": {
   "display_name": "Python 3",
   "language": "python",
   "name": "python3"
  },
  "language_info": {
   "codemirror_mode": {
    "name": "ipython",
    "version": 3
   },
   "file_extension": ".py",
   "mimetype": "text/x-python",
   "name": "python",
   "nbconvert_exporter": "python",
   "pygments_lexer": "ipython3",
   "version": "3.13.3"
  }
 },
 "nbformat": 4,
 "nbformat_minor": 5
}
