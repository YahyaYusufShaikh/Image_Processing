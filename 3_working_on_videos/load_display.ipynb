{
 "cells": [
  {
   "cell_type": "code",
   "execution_count": 2,
   "id": "2ab672a0",
   "metadata": {},
   "outputs": [],
   "source": [
    "import cv2\n",
    "import numpy as np\n",
    "import time "
   ]
  },
  {
   "cell_type": "code",
   "execution_count": 3,
   "id": "46c5aa63",
   "metadata": {},
   "outputs": [],
   "source": [
    "cap = cv2.VideoCapture('./videos/clip.mp4')\n",
    "\n",
    "while True:\n",
    "    ret, frame = cap.read()\n",
    "    if ret == False:\n",
    "        break\n",
    "\n",
    "    cv2.imshow('video', frame)\n",
    "    if cv2.waitKey(1) == ord('q'):\n",
    "        break\n",
    "\n",
    "cap.release()\n",
    "cv2.destroyAllWindows()\n"
   ]
  },
  {
   "cell_type": "markdown",
   "id": "31851414",
   "metadata": {},
   "source": [
    "FPS Problem Solution"
   ]
  },
  {
   "cell_type": "code",
   "execution_count": 4,
   "id": "d91cb7c6",
   "metadata": {},
   "outputs": [],
   "source": [
    "cap = cv2.VideoCapture('./videos/clip.mp4')\n",
    "fps = 0\n",
    "while True:\n",
    "    start_time = time.time() #start time\n",
    "    ret, frame = cap.read()\n",
    "    if ret == False:\n",
    "        break\n",
    "    cv2.putText(frame, str(int(fps)), (20,40), cv2.FONT_HERSHEY_SIMPLEX, 1.5, (255, 255, 255), 2)\n",
    "    cv2.imshow('video', frame)\n",
    "    if cv2.waitKey(41) == ord('q'):  \n",
    "        break\n",
    "    time_taken = time.time() - start_time\n",
    "    fps = 1/time_taken\n",
    "\n",
    "cap.release()\n",
    "cv2.destroyAllWindows()\n"
   ]
  },
  {
   "cell_type": "code",
   "execution_count": 5,
   "id": "30b0b872",
   "metadata": {},
   "outputs": [
    {
     "data": {
      "text/plain": [
       "41.666666666666664"
      ]
     },
     "execution_count": 5,
     "metadata": {},
     "output_type": "execute_result"
    }
   ],
   "source": [
    "1000/24"
   ]
  },
  {
   "cell_type": "markdown",
   "id": "98874cbc",
   "metadata": {},
   "source": [
    "Accessing Web Camera"
   ]
  },
  {
   "cell_type": "code",
   "execution_count": 8,
   "id": "06d49f30",
   "metadata": {},
   "outputs": [],
   "source": [
    "cap = cv2.VideoCapture(0)\n",
    "fps = 0\n",
    "while True:\n",
    "    start_time = time.time() #start time\n",
    "    ret, frame = cap.read()\n",
    "    if ret == False:\n",
    "        break\n",
    "    cv2.putText(frame, str(int(fps)), (20,40), cv2.FONT_HERSHEY_SIMPLEX, 1.5, (255, 255, 255), 2)\n",
    "    cv2.imshow('video', frame)\n",
    "    if cv2.waitKey(1) == ord('q'):  \n",
    "        break\n",
    "    time_taken = time.time() - start_time\n",
    "    fps = 1/time_taken\n",
    "\n",
    "cap.release()\n",
    "cv2.destroyAllWindows()\n"
   ]
  },
  {
   "cell_type": "code",
   "execution_count": null,
   "id": "437760fd",
   "metadata": {},
   "outputs": [
    {
     "data": {
      "text/plain": [
       "(480, 640, 3)"
      ]
     },
     "execution_count": 10,
     "metadata": {},
     "output_type": "execute_result"
    }
   ],
   "source": []
  },
  {
   "cell_type": "code",
   "execution_count": null,
   "id": "f1cc12e0",
   "metadata": {},
   "outputs": [],
   "source": []
  }
 ],
 "metadata": {
  "kernelspec": {
   "display_name": "Python 3",
   "language": "python",
   "name": "python3"
  },
  "language_info": {
   "codemirror_mode": {
    "name": "ipython",
    "version": 3
   },
   "file_extension": ".py",
   "mimetype": "text/x-python",
   "name": "python",
   "nbconvert_exporter": "python",
   "pygments_lexer": "ipython3",
   "version": "3.13.3"
  }
 },
 "nbformat": 4,
 "nbformat_minor": 5
}
