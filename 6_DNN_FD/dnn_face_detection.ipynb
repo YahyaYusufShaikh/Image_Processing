{
 "cells": [
  {
   "cell_type": "code",
   "execution_count": 1,
   "id": "01280ea8",
   "metadata": {},
   "outputs": [],
   "source": [
    "import cv2\n",
    "import numpy as np"
   ]
  },
  {
   "cell_type": "code",
   "execution_count": 2,
   "id": "2dd04ff8",
   "metadata": {},
   "outputs": [],
   "source": [
    "img = cv2.imread('./images/faces.jpg')\n",
    "\n",
    "cv2.imshow('face',img)\n",
    "cv2.waitKey(0)\n",
    "cv2.destroyAllWindows()"
   ]
  },
  {
   "cell_type": "code",
   "execution_count": 6,
   "id": "5b5f39cd",
   "metadata": {},
   "outputs": [],
   "source": [
    "face_detect_model = cv2.dnn.readNetFromCaffe('./model/deploy.prototxt.txt', './model/res10_300x300_ssd_iter_140000_fp16.caffemodel')"
   ]
  },
  {
   "cell_type": "code",
   "execution_count": 24,
   "id": "cf56e333",
   "metadata": {},
   "outputs": [],
   "source": [
    "def face_detect_dnn(img):\n",
    "    #step 1 Blob from the image\n",
    "    blob = cv2.dnn.blobFromImage(img, 1, (300, 300), (104, 177, 123), swapRB=True)\n",
    "\n",
    "    #step 2 set blob as input\n",
    "    face_detect_model.setInput(blob)\n",
    "\n",
    "    #step 3 get the output\n",
    "    detections = face_detect_model.forward()\n",
    "\n",
    "    #dwaring bound of box on top of the faces\n",
    "    image = img.copy()\n",
    "    h, w = img.shape[:2]\n",
    "\n",
    "    for i in range(0, detections.shape[2]):\n",
    "        confidence = detections[0,0,i,2]\n",
    "        if confidence > 0.5:\n",
    "            #diagonal points 3: 7\n",
    "            box = detections[0, 0, i, 3:7] * np.array([w,h,w,h])\n",
    "            box = box.astype('int')\n",
    "            pt1 = (box[0], box[1])\n",
    "            pt2 = (box[2], box[3])\n",
    "            #draw circle\n",
    "            cv2.rectangle(image, pt1, pt2, (0, 255, 0), 2)\n",
    "\n",
    "            text = \"score : {:.0f}%\".format(confidence * 100)\n",
    "            cv2.putText(image, text, pt1, cv2.FONT_HERSHEY_SIMPLEX, 1, (255, 255, 255))\n",
    "\n",
    "    return image"
   ]
  },
  {
   "cell_type": "code",
   "execution_count": null,
   "id": "307d1dc2",
   "metadata": {},
   "outputs": [],
   "source": [
    "img_detected = face_detect_dnn(img)\n",
    "cv2.imshow('face', img_detected)\n",
    "cv2.waitKey(0)\n",
    "cv2.destroyAllWindows()"
   ]
  },
  {
   "cell_type": "code",
   "execution_count": null,
   "id": "fd858d29",
   "metadata": {},
   "outputs": [],
   "source": []
  },
  {
   "cell_type": "code",
   "execution_count": null,
   "id": "47636a59",
   "metadata": {},
   "outputs": [],
   "source": []
  },
  {
   "cell_type": "code",
   "execution_count": null,
   "id": "8f208418",
   "metadata": {},
   "outputs": [],
   "source": []
  }
 ],
 "metadata": {
  "kernelspec": {
   "display_name": "Python 3",
   "language": "python",
   "name": "python3"
  },
  "language_info": {
   "codemirror_mode": {
    "name": "ipython",
    "version": 3
   },
   "file_extension": ".py",
   "mimetype": "text/x-python",
   "name": "python",
   "nbconvert_exporter": "python",
   "pygments_lexer": "ipython3",
   "version": "3.13.3"
  }
 },
 "nbformat": 4,
 "nbformat_minor": 5
}
