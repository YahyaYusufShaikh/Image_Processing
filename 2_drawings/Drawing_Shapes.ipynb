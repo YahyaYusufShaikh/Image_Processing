{
 "cells": [
  {
   "cell_type": "code",
   "execution_count": 2,
   "id": "532da3a1",
   "metadata": {},
   "outputs": [],
   "source": [
    "import cv2\n",
    "import numpy as np"
   ]
  },
  {
   "cell_type": "code",
   "execution_count": 3,
   "id": "45d633f8",
   "metadata": {},
   "outputs": [],
   "source": [
    "canvas = np.zeros((300, 300, 3), dtype='uint8')"
   ]
  },
  {
   "cell_type": "code",
   "execution_count": 4,
   "id": "ed9c54c0",
   "metadata": {},
   "outputs": [],
   "source": [
    "def display(win, img):\n",
    "    cv2.imshow(win, img)\n",
    "    cv2.waitKey(0)\n",
    "    cv2.destroyAllWindows()"
   ]
  },
  {
   "cell_type": "code",
   "execution_count": 5,
   "id": "6c4f23b2",
   "metadata": {},
   "outputs": [],
   "source": [
    "display('canvas', canvas)"
   ]
  },
  {
   "cell_type": "markdown",
   "id": "f3263020",
   "metadata": {},
   "source": [
    "Drawing Line"
   ]
  },
  {
   "cell_type": "code",
   "execution_count": 6,
   "id": "308d37a7",
   "metadata": {},
   "outputs": [],
   "source": [
    "green =  (0, 255, 0)\n",
    "cv2.line(canvas,(0,0),(300,300), green)\n",
    "display('line', canvas)"
   ]
  },
  {
   "cell_type": "code",
   "execution_count": 7,
   "id": "31068abc",
   "metadata": {},
   "outputs": [],
   "source": [
    "red = (0, 0, 255)\n",
    "cv2.line(canvas,(300,0), (0, 300), red)\n",
    "display('line', canvas)"
   ]
  },
  {
   "cell_type": "code",
   "execution_count": 8,
   "id": "6ad6b807",
   "metadata": {},
   "outputs": [],
   "source": [
    "blue = (255, 0, 0)\n",
    "cv2.line(canvas, (0, 150), (300, 150), blue)\n",
    "display('line', canvas)"
   ]
  },
  {
   "cell_type": "markdown",
   "id": "116e09ee",
   "metadata": {},
   "source": [
    "Drawing Rectangle"
   ]
  },
  {
   "cell_type": "code",
   "execution_count": 10,
   "id": "fdc92306",
   "metadata": {},
   "outputs": [],
   "source": [
    "canvas2 = np.zeros((300,300,3), dtype='uint8')"
   ]
  },
  {
   "cell_type": "code",
   "execution_count": 14,
   "id": "e1a67967",
   "metadata": {},
   "outputs": [],
   "source": [
    "cv2.rectangle(canvas, (10,10), (60,60), green,3)\n",
    "display('rectangle', canvas)"
   ]
  },
  {
   "cell_type": "code",
   "execution_count": 18,
   "id": "b6c64a76",
   "metadata": {},
   "outputs": [],
   "source": [
    "cv2.rectangle(canvas, (50,200), (200, 250), red,3)\n",
    "display('rectangle', canvas)"
   ]
  },
  {
   "cell_type": "code",
   "execution_count": 22,
   "id": "6a0fb3ae",
   "metadata": {},
   "outputs": [],
   "source": [
    "cv2.rectangle(canvas,(200, 10), (250, 210), blue,-1)\n",
    "display('rectangle', canvas)"
   ]
  },
  {
   "cell_type": "markdown",
   "id": "5b75aa7f",
   "metadata": {},
   "source": [
    "Drawing Circle"
   ]
  },
  {
   "cell_type": "code",
   "execution_count": 32,
   "id": "005e4e60",
   "metadata": {},
   "outputs": [],
   "source": [
    "centerx , certery = (canvas.shape[1]//2, canvas.shape[0]//2)"
   ]
  },
  {
   "cell_type": "code",
   "execution_count": 34,
   "id": "47dd829b",
   "metadata": {},
   "outputs": [],
   "source": [
    "white = (255, 255, 255)"
   ]
  },
  {
   "cell_type": "code",
   "execution_count": null,
   "id": "4b62ce34",
   "metadata": {},
   "outputs": [],
   "source": [
    "cv2.circle(canvas, (centerx, certery), white)"
   ]
  },
  {
   "cell_type": "code",
   "execution_count": null,
   "id": "3ec35363",
   "metadata": {},
   "outputs": [
    {
     "data": {
      "text/plain": [
       "3"
      ]
     },
     "execution_count": 31,
     "metadata": {},
     "output_type": "execute_result"
    }
   ],
   "source": []
  }
 ],
 "metadata": {
  "kernelspec": {
   "display_name": "Python 3",
   "language": "python",
   "name": "python3"
  },
  "language_info": {
   "codemirror_mode": {
    "name": "ipython",
    "version": 3
   },
   "file_extension": ".py",
   "mimetype": "text/x-python",
   "name": "python",
   "nbconvert_exporter": "python",
   "pygments_lexer": "ipython3",
   "version": "3.13.3"
  }
 },
 "nbformat": 4,
 "nbformat_minor": 5
}
