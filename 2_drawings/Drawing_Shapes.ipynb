{
 "cells": [
  {
   "cell_type": "code",
   "execution_count": 2,
   "id": "532da3a1",
   "metadata": {},
   "outputs": [],
   "source": [
    "import cv2\n",
    "import numpy as np"
   ]
  },
  {
   "cell_type": "code",
   "execution_count": 3,
   "id": "45d633f8",
   "metadata": {},
   "outputs": [],
   "source": [
    "canvas = np.zeros((300, 300, 3), dtype='uint8')"
   ]
  },
  {
   "cell_type": "code",
   "execution_count": 4,
   "id": "ed9c54c0",
   "metadata": {},
   "outputs": [],
   "source": [
    "def display(win, img):\n",
    "    cv2.imshow(win, img)\n",
    "    cv2.waitKey(0)\n",
    "    cv2.destroyAllWindows()"
   ]
  },
  {
   "cell_type": "code",
   "execution_count": 5,
   "id": "6c4f23b2",
   "metadata": {},
   "outputs": [],
   "source": [
    "display('canvas', canvas)"
   ]
  },
  {
   "cell_type": "markdown",
   "id": "f3263020",
   "metadata": {},
   "source": [
    "Drawing Line"
   ]
  },
  {
   "cell_type": "code",
   "execution_count": 6,
   "id": "308d37a7",
   "metadata": {},
   "outputs": [],
   "source": [
    "green =  (0, 255, 0)\n",
    "cv2.line(canvas,(0,0),(300,300), green)\n",
    "display('line', canvas)"
   ]
  },
  {
   "cell_type": "code",
   "execution_count": 7,
   "id": "31068abc",
   "metadata": {},
   "outputs": [],
   "source": [
    "red = (0, 0, 255)\n",
    "cv2.line(canvas,(300,0), (0, 300), red)\n",
    "display('line', canvas)"
   ]
  },
  {
   "cell_type": "code",
   "execution_count": 8,
   "id": "6ad6b807",
   "metadata": {},
   "outputs": [],
   "source": [
    "blue = (255, 0, 0)\n",
    "cv2.line(canvas, (0, 150), (300, 150), blue)\n",
    "display('line', canvas)"
   ]
  },
  {
   "cell_type": "markdown",
   "id": "116e09ee",
   "metadata": {},
   "source": [
    "Drawing Rectangle"
   ]
  },
  {
   "cell_type": "code",
   "execution_count": 10,
   "id": "fdc92306",
   "metadata": {},
   "outputs": [],
   "source": [
    "canvas2 = np.zeros((300,300,3), dtype='uint8')"
   ]
  },
  {
   "cell_type": "code",
   "execution_count": 14,
   "id": "e1a67967",
   "metadata": {},
   "outputs": [],
   "source": [
    "cv2.rectangle(canvas, (10,10), (60,60), green,3)\n",
    "display('rectangle', canvas)"
   ]
  },
  {
   "cell_type": "code",
   "execution_count": 18,
   "id": "b6c64a76",
   "metadata": {},
   "outputs": [],
   "source": [
    "cv2.rectangle(canvas, (50,200), (200, 250), red,3)\n",
    "display('rectangle', canvas)"
   ]
  },
  {
   "cell_type": "code",
   "execution_count": 22,
   "id": "6a0fb3ae",
   "metadata": {},
   "outputs": [],
   "source": [
    "cv2.rectangle(canvas,(200, 10), (250, 210), blue,-1)\n",
    "display('rectangle', canvas)"
   ]
  },
  {
   "cell_type": "markdown",
   "id": "5b75aa7f",
   "metadata": {},
   "source": [
    "Drawing Circle"
   ]
  },
  {
   "cell_type": "code",
   "execution_count": 32,
   "id": "005e4e60",
   "metadata": {},
   "outputs": [],
   "source": [
    "centerx , certery = (canvas.shape[1]//2, canvas.shape[0]//2)"
   ]
  },
  {
   "cell_type": "code",
   "execution_count": 39,
   "id": "47dd829b",
   "metadata": {},
   "outputs": [],
   "source": [
    "white = (255, 255, 255)"
   ]
  },
  {
   "cell_type": "code",
   "execution_count": 40,
   "id": "2b13381e",
   "metadata": {},
   "outputs": [],
   "source": [
    "canvas3 = np.zeros((300, 300, 3), dtype='uint8')"
   ]
  },
  {
   "cell_type": "code",
   "execution_count": 44,
   "id": "4b62ce34",
   "metadata": {},
   "outputs": [],
   "source": [
    "cv2.circle(canvas2, (centerx, certery),25, white)\n",
    "display('circle', canvas2)"
   ]
  },
  {
   "cell_type": "code",
   "execution_count": 48,
   "id": "3ec35363",
   "metadata": {},
   "outputs": [],
   "source": [
    "for r in range(0, 300, 15):\n",
    "    cv2.circle(canvas3, (centerx, certery), r, green)\n",
    "\n",
    "display('circle', canvas3)"
   ]
  },
  {
   "cell_type": "markdown",
   "id": "4b5f9484",
   "metadata": {},
   "source": [
    "Abstract Drawing"
   ]
  },
  {
   "cell_type": "code",
   "execution_count": 131,
   "id": "569d8368",
   "metadata": {},
   "outputs": [
    {
     "name": "stdout",
     "output_type": "stream",
     "text": [
      "149\n",
      "[138, 136, 44]\n",
      "[ 83 198]\n",
      "175\n",
      "[9, 239, 210]\n",
      "[ 32 218]\n",
      "26\n",
      "[91, 248, 109]\n",
      "[ 63 290]\n",
      "85\n",
      "[64, 32, 254]\n",
      "[176 231]\n",
      "104\n",
      "[109, 173, 50]\n",
      "[167  79]\n",
      "104\n",
      "[138, 31, 205]\n",
      "[50 38]\n",
      "185\n",
      "[12, 174, 52]\n",
      "[137 104]\n",
      "190\n",
      "[245, 210, 84]\n",
      "[227 250]\n",
      "31\n",
      "[55, 150, 43]\n",
      "[285 198]\n",
      "177\n",
      "[183, 87, 239]\n",
      "[160  91]\n",
      "16\n",
      "[159, 253, 163]\n",
      "[127 243]\n",
      "85\n",
      "[113, 64, 158]\n",
      "[237  20]\n",
      "68\n",
      "[180, 7, 102]\n",
      "[260 198]\n",
      "164\n",
      "[100, 143, 138]\n",
      "[114  91]\n",
      "11\n",
      "[224, 241, 75]\n",
      "[106   8]\n",
      "121\n",
      "[71, 173, 185]\n",
      "[281   3]\n",
      "97\n",
      "[90, 185, 223]\n",
      "[120 165]\n",
      "88\n",
      "[121, 34, 95]\n",
      "[221 121]\n",
      "44\n",
      "[115, 164, 54]\n",
      "[227 135]\n",
      "155\n",
      "[200, 115, 113]\n",
      "[ 59 208]\n",
      "22\n",
      "[195, 221, 109]\n",
      "[165 138]\n",
      "101\n",
      "[137, 146, 93]\n",
      "[  5 166]\n",
      "43\n",
      "[42, 69, 209]\n",
      "[232 170]\n",
      "31\n",
      "[47, 59, 188]\n",
      "[201 166]\n",
      "58\n",
      "[79, 171, 27]\n",
      "[241 118]\n"
     ]
    }
   ],
   "source": [
    "for i in range(0, 25):\n",
    "    radius = np.random.randint(5,200)\n",
    "    print(radius)\n",
    "    color = np.random.randint(0,256, size=(3,)).tolist()\n",
    "    print(color)\n",
    "    pt = np.random.randint(0, 300, size=(2,))\n",
    "    print(pt)\n",
    "    cv2.circle(canvas3,tuple(pt), radius=radius, color = color, thickness=-1)\n",
    "\n",
    "display('circle', canvas3)"
   ]
  },
  {
   "cell_type": "code",
   "execution_count": 133,
   "id": "e2b2552a",
   "metadata": {},
   "outputs": [
    {
     "data": {
      "text/plain": [
       "True"
      ]
     },
     "execution_count": 133,
     "metadata": {},
     "output_type": "execute_result"
    }
   ],
   "source": [
    "cv2.imwrite('./images/abstract1_image.jpeg', canvas3)"
   ]
  }
 ],
 "metadata": {
  "kernelspec": {
   "display_name": "Python 3",
   "language": "python",
   "name": "python3"
  },
  "language_info": {
   "codemirror_mode": {
    "name": "ipython",
    "version": 3
   },
   "file_extension": ".py",
   "mimetype": "text/x-python",
   "name": "python",
   "nbconvert_exporter": "python",
   "pygments_lexer": "ipython3",
   "version": "3.13.3"
  }
 },
 "nbformat": 4,
 "nbformat_minor": 5
}
