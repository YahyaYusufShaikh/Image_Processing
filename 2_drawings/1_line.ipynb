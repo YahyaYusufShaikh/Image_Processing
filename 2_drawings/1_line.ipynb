{
 "cells": [
  {
   "cell_type": "code",
   "execution_count": 1,
   "id": "532da3a1",
   "metadata": {},
   "outputs": [],
   "source": [
    "import cv2\n",
    "import numpy as np"
   ]
  },
  {
   "cell_type": "code",
   "execution_count": 2,
   "id": "45d633f8",
   "metadata": {},
   "outputs": [],
   "source": [
    "canvas = np.zeros((300, 300, 3), dtype='uint8')"
   ]
  },
  {
   "cell_type": "code",
   "execution_count": 3,
   "id": "ed9c54c0",
   "metadata": {},
   "outputs": [],
   "source": [
    "def display(win, img):\n",
    "    cv2.imshow(win, img)\n",
    "    cv2.waitKey(0)\n",
    "    cv2.destroyAllWindows()"
   ]
  },
  {
   "cell_type": "code",
   "execution_count": null,
   "id": "6c4f23b2",
   "metadata": {},
   "outputs": [],
   "source": [
    "display('canvas', canvas)"
   ]
  },
  {
   "cell_type": "code",
   "execution_count": null,
   "id": "fdc92306",
   "metadata": {},
   "outputs": [],
   "source": []
  }
 ],
 "metadata": {
  "kernelspec": {
   "display_name": "Python 3",
   "language": "python",
   "name": "python3"
  },
  "language_info": {
   "codemirror_mode": {
    "name": "ipython",
    "version": 3
   },
   "file_extension": ".py",
   "mimetype": "text/x-python",
   "name": "python",
   "nbconvert_exporter": "python",
   "pygments_lexer": "ipython3",
   "version": "3.13.3"
  }
 },
 "nbformat": 4,
 "nbformat_minor": 5
}
