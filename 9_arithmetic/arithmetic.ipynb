{
 "cells": [
  {
   "cell_type": "code",
   "execution_count": 1,
   "id": "e147df6c",
   "metadata": {},
   "outputs": [],
   "source": [
    "import numpy as np\n",
    "import cv2"
   ]
  },
  {
   "cell_type": "markdown",
   "id": "119c6fb8",
   "metadata": {},
   "source": [
    "Addition"
   ]
  },
  {
   "cell_type": "code",
   "execution_count": 2,
   "id": "d2ffecde",
   "metadata": {},
   "outputs": [],
   "source": [
    "img = cv2.imread('./images/car.jpg')\n",
    "\n",
    "cv2.imshow('image', img)\n",
    "cv2.waitKey(0)\n",
    "cv2.destroyAllWindows()"
   ]
  },
  {
   "cell_type": "code",
   "execution_count": 19,
   "id": "03af4e4e",
   "metadata": {},
   "outputs": [],
   "source": [
    "value = np.ones_like(img, dtype='uint8')*100"
   ]
  },
  {
   "cell_type": "code",
   "execution_count": 20,
   "id": "89882fdc",
   "metadata": {},
   "outputs": [],
   "source": [
    "cv2.imshow('value', value)\n",
    "cv2.waitKey(0)\n",
    "cv2.destroyAllWindows()"
   ]
  },
  {
   "cell_type": "code",
   "execution_count": 21,
   "id": "061a2cad",
   "metadata": {},
   "outputs": [],
   "source": [
    "img_add = cv2.add(value, img)\n"
   ]
  },
  {
   "cell_type": "code",
   "execution_count": 22,
   "id": "65a43571",
   "metadata": {},
   "outputs": [],
   "source": [
    "cv2.imshow('original', img)\n",
    "cv2.imshow('add', img_add) \n",
    "cv2.waitKey(0)\n",
    "cv2.destroyAllWindows()"
   ]
  },
  {
   "cell_type": "markdown",
   "id": "ff25763e",
   "metadata": {},
   "source": [
    "Subtraction"
   ]
  },
  {
   "cell_type": "code",
   "execution_count": 25,
   "id": "7b9f4a39",
   "metadata": {},
   "outputs": [],
   "source": [
    "value = np.ones_like(img, dtype='uint8')*50\n",
    "img_sub = cv2.subtract(img, value)"
   ]
  },
  {
   "cell_type": "code",
   "execution_count": 27,
   "id": "7dda3bcb",
   "metadata": {},
   "outputs": [],
   "source": [
    "cv2.imshow('original', img)\n",
    "cv2.imshow('sub', img_sub)\n",
    "cv2.waitKey(0)\n",
    "cv2.destroyAllWindows()"
   ]
  },
  {
   "cell_type": "markdown",
   "id": "9285a1bf",
   "metadata": {},
   "source": [
    "Blending Image"
   ]
  },
  {
   "cell_type": "code",
   "execution_count": 28,
   "id": "8e1cb444",
   "metadata": {},
   "outputs": [],
   "source": [
    "img1 = cv2.imread('./images/blend_1.jpg')\n",
    "img2 = cv2.imread('./images/blend_2.jpg')"
   ]
  },
  {
   "cell_type": "code",
   "execution_count": 41,
   "id": "bc51fcc8",
   "metadata": {},
   "outputs": [],
   "source": [
    "blend = cv2.addWeighted(img1, 0.7, img2, 0.5, 10)\n",
    "cv2.imshow('blend', blend)\n",
    "cv2.waitKey(0)  \n",
    "cv2.destroyAllWindows()"
   ]
  },
  {
   "cell_type": "code",
   "execution_count": null,
   "id": "d096ec6e",
   "metadata": {},
   "outputs": [],
   "source": []
  }
 ],
 "metadata": {
  "kernelspec": {
   "display_name": "Python 3",
   "language": "python",
   "name": "python3"
  },
  "language_info": {
   "codemirror_mode": {
    "name": "ipython",
    "version": 3
   },
   "file_extension": ".py",
   "mimetype": "text/x-python",
   "name": "python",
   "nbconvert_exporter": "python",
   "pygments_lexer": "ipython3",
   "version": "3.13.3"
  }
 },
 "nbformat": 4,
 "nbformat_minor": 5
}
