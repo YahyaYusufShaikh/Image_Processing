{
 "cells": [
  {
   "cell_type": "code",
   "execution_count": 1,
   "id": "e147df6c",
   "metadata": {},
   "outputs": [],
   "source": [
    "import numpy as np\n",
    "import cv2"
   ]
  },
  {
   "cell_type": "markdown",
   "id": "119c6fb8",
   "metadata": {},
   "source": [
    "Addition"
   ]
  },
  {
   "cell_type": "code",
   "execution_count": 2,
   "id": "d2ffecde",
   "metadata": {},
   "outputs": [],
   "source": [
    "img = cv2.imread('./images/car.jpg')\n",
    "\n",
    "cv2.imshow('image', img)\n",
    "cv2.waitKey(0)\n",
    "cv2.destroyAllWindows()"
   ]
  },
  {
   "cell_type": "code",
   "execution_count": null,
   "id": "03af4e4e",
   "metadata": {},
   "outputs": [],
   "source": [
    "value = np.ones_like(img, dtype='uint8')*50"
   ]
  },
  {
   "cell_type": "code",
   "execution_count": 8,
   "id": "89882fdc",
   "metadata": {},
   "outputs": [],
   "source": [
    "cv2.imshow('value', value)\n",
    "cv2.waitKey(0)\n",
    "cv2.destroyAllWindows()"
   ]
  },
  {
   "cell_type": "code",
   "execution_count": 13,
   "id": "061a2cad",
   "metadata": {},
   "outputs": [],
   "source": [
    "img_add = cv2.add(value, img)\n"
   ]
  },
  {
   "cell_type": "code",
   "execution_count": 14,
   "id": "65a43571",
   "metadata": {},
   "outputs": [],
   "source": [
    "cv2.imshow('original', img)\n",
    "cv2.imshow('add', img_add) \n",
    "cv2.waitKey(0)\n",
    "cv2.destroyAllWindows()"
   ]
  },
  {
   "cell_type": "code",
   "execution_count": null,
   "id": "2d9cf6e0",
   "metadata": {},
   "outputs": [],
   "source": []
  }
 ],
 "metadata": {
  "kernelspec": {
   "display_name": "Python 3",
   "language": "python",
   "name": "python3"
  },
  "language_info": {
   "codemirror_mode": {
    "name": "ipython",
    "version": 3
   },
   "file_extension": ".py",
   "mimetype": "text/x-python",
   "name": "python",
   "nbconvert_exporter": "python",
   "pygments_lexer": "ipython3",
   "version": "3.13.3"
  }
 },
 "nbformat": 4,
 "nbformat_minor": 5
}
