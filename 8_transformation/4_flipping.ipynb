{
 "cells": [
  {
   "cell_type": "code",
   "execution_count": 2,
   "id": "3857f15a",
   "metadata": {},
   "outputs": [],
   "source": [
    "import numpy as np\n",
    "import cv2"
   ]
  },
  {
   "cell_type": "code",
   "execution_count": 3,
   "id": "338641de",
   "metadata": {},
   "outputs": [],
   "source": [
    "img = cv2.imread(\"./images/flemingo.jpg\")\n",
    "def display(win, image):\n",
    "    cv2.imshow(win, image)\n",
    "    cv2.waitKey(0)\n",
    "    cv2.destroyAllWindows()"
   ]
  },
  {
   "cell_type": "code",
   "execution_count": 6,
   "id": "2ef5eeca",
   "metadata": {},
   "outputs": [],
   "source": [
    "flip_img = cv2.flip(img, 0)"
   ]
  },
  {
   "cell_type": "code",
   "execution_count": 7,
   "id": "eb848f6c",
   "metadata": {},
   "outputs": [],
   "source": [
    "display(\"image\", flip_img)"
   ]
  },
  {
   "cell_type": "code",
   "execution_count": null,
   "id": "d1460832",
   "metadata": {},
   "outputs": [],
   "source": []
  }
 ],
 "metadata": {
  "kernelspec": {
   "display_name": "Python 3",
   "language": "python",
   "name": "python3"
  },
  "language_info": {
   "codemirror_mode": {
    "name": "ipython",
    "version": 3
   },
   "file_extension": ".py",
   "mimetype": "text/x-python",
   "name": "python",
   "nbconvert_exporter": "python",
   "pygments_lexer": "ipython3",
   "version": "3.13.3"
  }
 },
 "nbformat": 4,
 "nbformat_minor": 5
}
