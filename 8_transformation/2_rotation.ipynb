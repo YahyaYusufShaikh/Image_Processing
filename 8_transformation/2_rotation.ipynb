{
 "cells": [
  {
   "cell_type": "code",
   "execution_count": 1,
   "id": "ab4101c3",
   "metadata": {},
   "outputs": [],
   "source": [
    "import cv2\n",
    "import numpy as np"
   ]
  },
  {
   "cell_type": "code",
   "execution_count": 2,
   "id": "1c820135",
   "metadata": {},
   "outputs": [],
   "source": [
    "img = cv2.imread(\"./images/flemingo.jpg\")"
   ]
  },
  {
   "cell_type": "code",
   "execution_count": 3,
   "id": "ee28a731",
   "metadata": {},
   "outputs": [],
   "source": [
    "def display(win, image):\n",
    "    cv2.imshow(win, image)\n",
    "    cv2.waitKey(0)\n",
    "    cv2.destroyAllWindows()"
   ]
  },
  {
   "cell_type": "code",
   "execution_count": 5,
   "id": "6067b7c9",
   "metadata": {},
   "outputs": [
    {
     "data": {
      "text/plain": [
       "(320, 320)"
      ]
     },
     "execution_count": 5,
     "metadata": {},
     "output_type": "execute_result"
    }
   ],
   "source": [
    "center = (img.shape[1]//2, img.shape[0]//2)\n",
    "center"
   ]
  },
  {
   "cell_type": "code",
   "execution_count": 19,
   "id": "0c26e52c",
   "metadata": {},
   "outputs": [
    {
     "data": {
      "text/plain": [
       "array([[  0.56568542,   0.56568542, -42.03867197],\n",
       "       [ -0.56568542,   0.56568542, 320.        ]])"
      ]
     },
     "execution_count": 19,
     "metadata": {},
     "output_type": "execute_result"
    }
   ],
   "source": [
    "M = cv2.getRotationMatrix2D(center, 45, 0.8)\n",
    "M"
   ]
  },
  {
   "cell_type": "code",
   "execution_count": 20,
   "id": "a8c1e382",
   "metadata": {},
   "outputs": [],
   "source": [
    "rotate_45 = cv2.warpAffine(img, M, (img.shape[1], img.shape[0]))\n",
    "display('rotate_45', rotate_45)"
   ]
  },
  {
   "cell_type": "code",
   "execution_count": 24,
   "id": "2fbc278c",
   "metadata": {},
   "outputs": [],
   "source": [
    "def rotation(img, angle, scale):\n",
    "    center = (img.shape[1]//2, img.shape[0]//2)\n",
    "    M = cv2.getRotationMatrix2D(center, angle, scale)\n",
    "    rotate = cv2.warpAffine(img, M, (img.shape[1], img.shape[0]))\n",
    "    display('rotate', rotate)"
   ]
  },
  {
   "cell_type": "code",
   "execution_count": 29,
   "id": "ece16f1e",
   "metadata": {},
   "outputs": [],
   "source": [
    "rotation(img, 180, 1)"
   ]
  },
  {
   "cell_type": "code",
   "execution_count": null,
   "id": "a7c3ea4b",
   "metadata": {},
   "outputs": [],
   "source": []
  },
  {
   "cell_type": "code",
   "execution_count": null,
   "id": "e18bb0be",
   "metadata": {},
   "outputs": [],
   "source": []
  }
 ],
 "metadata": {
  "kernelspec": {
   "display_name": "Python 3",
   "language": "python",
   "name": "python3"
  },
  "language_info": {
   "codemirror_mode": {
    "name": "ipython",
    "version": 3
   },
   "file_extension": ".py",
   "mimetype": "text/x-python",
   "name": "python",
   "nbconvert_exporter": "python",
   "pygments_lexer": "ipython3",
   "version": "3.13.3"
  }
 },
 "nbformat": 4,
 "nbformat_minor": 5
}
