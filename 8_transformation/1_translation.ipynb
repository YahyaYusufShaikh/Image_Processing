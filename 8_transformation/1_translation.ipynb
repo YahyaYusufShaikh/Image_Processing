{
 "cells": [
  {
   "cell_type": "code",
   "execution_count": 1,
   "id": "773839ed",
   "metadata": {},
   "outputs": [],
   "source": [
    "import cv2\n",
    "import numpy as np"
   ]
  },
  {
   "cell_type": "code",
   "execution_count": 3,
   "id": "17ea9d8f",
   "metadata": {},
   "outputs": [],
   "source": [
    "img = cv2.imread(\"./images/flemingo.jpg\")"
   ]
  },
  {
   "cell_type": "code",
   "execution_count": 5,
   "id": "7c24ab69",
   "metadata": {},
   "outputs": [],
   "source": [
    "def display(win, image):\n",
    "    cv2.imshow(win, image)\n",
    "    cv2.waitKey(0)\n",
    "    cv2.destroyAllWindows()"
   ]
  },
  {
   "cell_type": "code",
   "execution_count": 6,
   "id": "abd48887",
   "metadata": {},
   "outputs": [],
   "source": [
    "display(\"image\", img)"
   ]
  },
  {
   "cell_type": "code",
   "execution_count": 14,
   "id": "d7d64ff5",
   "metadata": {},
   "outputs": [],
   "source": [
    "tx = -100\n",
    "ty = -150\n",
    "M = np.float32([[1,0,tx],\n",
    "              [0,1,ty]])"
   ]
  },
  {
   "cell_type": "code",
   "execution_count": 15,
   "id": "4ebd3401",
   "metadata": {},
   "outputs": [],
   "source": [
    "shifted = cv2.warpAffine(img, M, (img.shape[1], img.shape[0]))\n",
    "\n",
    "display(\"shifted\", shifted)"
   ]
  },
  {
   "cell_type": "code",
   "execution_count": 26,
   "id": "5d5b7f26",
   "metadata": {},
   "outputs": [],
   "source": [
    "def translaion(img, tx, ty):\n",
    "    M = np.float32([[1,0, tx],\n",
    "                    [0,1,ty]])\n",
    "    s_img = cv2.warpAffine(img, M, (img.shape[1], img.shape[0]))\n",
    "    display(\"shifted\", s_img)"
   ]
  },
  {
   "cell_type": "code",
   "execution_count": 30,
   "id": "f84cc7a1",
   "metadata": {},
   "outputs": [],
   "source": [
    "translaion(img, 100, -100)"
   ]
  },
  {
   "cell_type": "code",
   "execution_count": null,
   "id": "6ffbb04a",
   "metadata": {},
   "outputs": [],
   "source": []
  },
  {
   "cell_type": "code",
   "execution_count": null,
   "id": "6a5cc7b7",
   "metadata": {},
   "outputs": [],
   "source": [
    " "
   ]
  }
 ],
 "metadata": {
  "kernelspec": {
   "display_name": "Python 3",
   "language": "python",
   "name": "python3"
  },
  "language_info": {
   "codemirror_mode": {
    "name": "ipython",
    "version": 3
   },
   "file_extension": ".py",
   "mimetype": "text/x-python",
   "name": "python",
   "nbconvert_exporter": "python",
   "pygments_lexer": "ipython3",
   "version": "3.13.3"
  }
 },
 "nbformat": 4,
 "nbformat_minor": 5
}
