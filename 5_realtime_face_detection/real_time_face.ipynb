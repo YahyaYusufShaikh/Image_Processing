{
 "cells": [
  {
   "cell_type": "code",
   "execution_count": 5,
   "id": "cc13fd86",
   "metadata": {},
   "outputs": [],
   "source": [
    "import numpy as np\n",
    "import cv2"
   ]
  },
  {
   "cell_type": "code",
   "execution_count": null,
   "id": "d89b28e1",
   "metadata": {},
   "outputs": [],
   "source": [
    "face_detection = cv2.CascadeClassifier('./model/haarcascade_frontalface_default.xml')\n",
    "def face_detection(img):\n",
    "    Image = img.copy()\n",
    "    #step 1: convert image into grayscale\n",
    "    gray = cv2.cvtColor(img, cv2.COLOR_BGR2GRAY)\n",
    "    #step 2: apply gray image to face cascade classifier\n",
    "    box, detections = face_detection.detectMultiScale2(gray, minNeighbors=8)\n",
    "    #step 3: draw rectangle on image\n",
    "    for x, y, w, h in box:\n",
    "        cv2.rectangle(Image, (x, y), (x+w, y+h), (0,255, 0), 2)\n",
    "    return Image"
   ]
  },
  {
   "cell_type": "code",
   "execution_count": 11,
   "id": "6ff7f748",
   "metadata": {},
   "outputs": [
    {
     "ename": "AttributeError",
     "evalue": "'function' object has no attribute 'detectMultiScale2'",
     "output_type": "error",
     "traceback": [
      "\u001b[31m---------------------------------------------------------------------------\u001b[39m",
      "\u001b[31mAttributeError\u001b[39m                            Traceback (most recent call last)",
      "\u001b[36mCell\u001b[39m\u001b[36m \u001b[39m\u001b[32mIn[11]\u001b[39m\u001b[32m, line 9\u001b[39m\n\u001b[32m      6\u001b[39m \u001b[38;5;28;01mif\u001b[39;00m ret == \u001b[38;5;28;01mFalse\u001b[39;00m:\n\u001b[32m      7\u001b[39m     \u001b[38;5;28;01mbreak\u001b[39;00m\n\u001b[32m----> \u001b[39m\u001b[32m9\u001b[39m img_detect = \u001b[43mface_detection\u001b[49m\u001b[43m(\u001b[49m\u001b[43mframe\u001b[49m\u001b[43m)\u001b[49m\n\u001b[32m     10\u001b[39m cv2.imshow(\u001b[33m'\u001b[39m\u001b[33mreal time face detection\u001b[39m\u001b[33m'\u001b[39m, img_detect)\n\u001b[32m     11\u001b[39m \u001b[38;5;28;01mif\u001b[39;00m cv2.waitKey(\u001b[32m1\u001b[39m) == \u001b[38;5;28mord\u001b[39m(\u001b[33m'\u001b[39m\u001b[33mq\u001b[39m\u001b[33m'\u001b[39m):\n",
      "\u001b[36mCell\u001b[39m\u001b[36m \u001b[39m\u001b[32mIn[10]\u001b[39m\u001b[32m, line 7\u001b[39m, in \u001b[36mface_detection\u001b[39m\u001b[34m(img)\u001b[39m\n\u001b[32m      5\u001b[39m gray = cv2.cvtColor(img, cv2.COLOR_BGR2GRAY)\n\u001b[32m      6\u001b[39m \u001b[38;5;66;03m#step 2: apply gray image to face cascade classifier\u001b[39;00m\n\u001b[32m----> \u001b[39m\u001b[32m7\u001b[39m box, detections = \u001b[43mface_detection\u001b[49m\u001b[43m.\u001b[49m\u001b[43mdetectMultiScale2\u001b[49m(gray, minNeighbors=\u001b[32m8\u001b[39m)\n\u001b[32m      8\u001b[39m \u001b[38;5;66;03m#step 3: draw rectangle on image\u001b[39;00m\n\u001b[32m      9\u001b[39m \u001b[38;5;28;01mfor\u001b[39;00m x, y, w, h \u001b[38;5;129;01min\u001b[39;00m box:\n",
      "\u001b[31mAttributeError\u001b[39m: 'function' object has no attribute 'detectMultiScale2'"
     ]
    }
   ],
   "source": [
    "cap = cv2.VideoCapture(0)\n",
    "\n",
    "\n",
    "while True:\n",
    "    ret, frame = cap.read()\n",
    "    if ret == False:\n",
    "        break\n",
    "    \n",
    "    img_detect = face_detection(frame)\n",
    "    cv2.imshow('real time face detection', img_detect)\n",
    "    if cv2.waitKey(1) == ord('q'):\n",
    "        break\n",
    "\n",
    "cap.release()\n",
    "cv2.destroyAllWindows()"
   ]
  },
  {
   "cell_type": "code",
   "execution_count": null,
   "id": "eaa8a56c",
   "metadata": {},
   "outputs": [],
   "source": []
  }
 ],
 "metadata": {
  "kernelspec": {
   "display_name": "Python 3",
   "language": "python",
   "name": "python3"
  },
  "language_info": {
   "codemirror_mode": {
    "name": "ipython",
    "version": 3
   },
   "file_extension": ".py",
   "mimetype": "text/x-python",
   "name": "python",
   "nbconvert_exporter": "python",
   "pygments_lexer": "ipython3",
   "version": "3.13.3"
  }
 },
 "nbformat": 4,
 "nbformat_minor": 5
}
