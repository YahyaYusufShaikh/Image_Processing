{
 "cells": [
  {
   "cell_type": "code",
   "execution_count": 1,
   "id": "cc13fd86",
   "metadata": {},
   "outputs": [],
   "source": [
    "import numpy as np\n",
    "import cv2"
   ]
  },
  {
   "cell_type": "code",
   "execution_count": 5,
   "id": "d89b28e1",
   "metadata": {},
   "outputs": [],
   "source": [
    "face_cascade = cv2.CascadeClassifier('./model/haarcascade_frontalface_default.xml')\n",
    "def face_detection(img):\n",
    "    Image = img.copy()\n",
    "    #step 1: convert image into grayscale\n",
    "    gray = cv2.cvtColor(img, cv2.COLOR_BGR2GRAY)\n",
    "    #step 2: apply gray image to face cascade classifier\n",
    "    box, detections = face_cascade.detectMultiScale2(gray, minNeighbors=8)\n",
    "    #step 3: draw rectangle on image\n",
    "    for x, y, w, h in box:\n",
    "        cv2.rectangle(Image, (x, y), (x+w, y+h), (0,255, 0), 2)\n",
    "    return Image"
   ]
  },
  {
   "cell_type": "code",
   "execution_count": 6,
   "id": "6ff7f748",
   "metadata": {},
   "outputs": [],
   "source": [
    "cap = cv2.VideoCapture(0)\n",
    "\n",
    "\n",
    "while True:\n",
    "    ret, frame = cap.read()\n",
    "    if ret == False:\n",
    "        break\n",
    "    \n",
    "    img_detect = face_detection(frame)\n",
    "    cv2.imshow('real time face detection', img_detect)\n",
    "    if cv2.waitKey(1) == ord('q'):\n",
    "        break\n",
    "\n",
    "cap.release()\n",
    "cv2.destroyAllWindows()"
   ]
  },
  {
   "cell_type": "code",
   "execution_count": null,
   "id": "eaa8a56c",
   "metadata": {},
   "outputs": [],
   "source": []
  }
 ],
 "metadata": {
  "kernelspec": {
   "display_name": "Python 3",
   "language": "python",
   "name": "python3"
  },
  "language_info": {
   "codemirror_mode": {
    "name": "ipython",
    "version": 3
   },
   "file_extension": ".py",
   "mimetype": "text/x-python",
   "name": "python",
   "nbconvert_exporter": "python",
   "pygments_lexer": "ipython3",
   "version": "3.13.3"
  }
 },
 "nbformat": 4,
 "nbformat_minor": 5
}
